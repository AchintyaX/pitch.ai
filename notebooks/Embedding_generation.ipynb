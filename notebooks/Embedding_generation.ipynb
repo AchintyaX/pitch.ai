{
 "cells": [
  {
   "cell_type": "code",
   "execution_count": 1,
   "id": "02afbeac",
   "metadata": {},
   "outputs": [],
   "source": [
    "import os \n",
    "os.chdir(\"../\")\n"
   ]
  },
  {
   "cell_type": "code",
   "execution_count": 36,
   "id": "c520a475",
   "metadata": {},
   "outputs": [],
   "source": [
    "import pandas as pd \n",
    "import openai\n",
    "from tqdm import tqdm\n",
    "from ast import literal_eval\n",
    "from openai.embeddings_utils import  get_embedding\n",
    "import numpy as np\n",
    "from pymilvus import connections\n",
    "from pymilvus import Collection, DataType, FieldSchema, CollectionSchema\n",
    "from pymilvus import utility\n",
    "from time import time\n",
    "\n",
    "openai.api_key = os.getenv(\"OPENAI_API_KEY\")"
   ]
  },
  {
   "cell_type": "code",
   "execution_count": 9,
   "id": "bbb098cd",
   "metadata": {},
   "outputs": [],
   "source": [
    "tqdm.pandas()"
   ]
  },
  {
   "cell_type": "code",
   "execution_count": 4,
   "id": "8fdb3603",
   "metadata": {},
   "outputs": [
    {
     "data": {
      "text/html": [
       "<div>\n",
       "<style scoped>\n",
       "    .dataframe tbody tr th:only-of-type {\n",
       "        vertical-align: middle;\n",
       "    }\n",
       "\n",
       "    .dataframe tbody tr th {\n",
       "        vertical-align: top;\n",
       "    }\n",
       "\n",
       "    .dataframe thead th {\n",
       "        text-align: right;\n",
       "    }\n",
       "</style>\n",
       "<table border=\"1\" class=\"dataframe\">\n",
       "  <thead>\n",
       "    <tr style=\"text-align: right;\">\n",
       "      <th></th>\n",
       "      <th>category</th>\n",
       "      <th>filename</th>\n",
       "      <th>title</th>\n",
       "      <th>content</th>\n",
       "      <th>summary</th>\n",
       "      <th>keywords</th>\n",
       "    </tr>\n",
       "  </thead>\n",
       "  <tbody>\n",
       "    <tr>\n",
       "      <th>0</th>\n",
       "      <td>business</td>\n",
       "      <td>001.txt</td>\n",
       "      <td>Ad sales boost Time Warner profit</td>\n",
       "      <td>Quarterly profits at US media giant TimeWarne...</td>\n",
       "      <td>TimeWarner has reported a 76% increase in quar...</td>\n",
       "      <td>['TimeWarner', 'profits', 'AOL', 'internet adv...</td>\n",
       "    </tr>\n",
       "    <tr>\n",
       "      <th>1</th>\n",
       "      <td>business</td>\n",
       "      <td>002.txt</td>\n",
       "      <td>Dollar gains on Greenspan speech</td>\n",
       "      <td>The dollar has hit its highest level against ...</td>\n",
       "      <td>The US dollar has risen to its highest level a...</td>\n",
       "      <td>['dollar', 'Federal Reserve', 'US trade defici...</td>\n",
       "    </tr>\n",
       "    <tr>\n",
       "      <th>2</th>\n",
       "      <td>business</td>\n",
       "      <td>003.txt</td>\n",
       "      <td>Yukos unit buyer faces loan claim</td>\n",
       "      <td>The owners of embattled Russian oil giant Yuk...</td>\n",
       "      <td>Yukos' owners are to demand that Rosneft, the ...</td>\n",
       "      <td>['Yukos', 'Rosneft', 'Yugansk unit', 'Menatep ...</td>\n",
       "    </tr>\n",
       "    <tr>\n",
       "      <th>3</th>\n",
       "      <td>business</td>\n",
       "      <td>004.txt</td>\n",
       "      <td>High fuel prices hit BA's profits</td>\n",
       "      <td>British Airways has blamed high fuel prices f...</td>\n",
       "      <td>British Airways has reported a 40% drop in pro...</td>\n",
       "      <td>['British Airways', 'fuel prices', 'pre-tax pr...</td>\n",
       "    </tr>\n",
       "    <tr>\n",
       "      <th>4</th>\n",
       "      <td>business</td>\n",
       "      <td>005.txt</td>\n",
       "      <td>Pernod takeover talk lifts Domecq</td>\n",
       "      <td>Shares in UK drinks and food firm Allied Dome...</td>\n",
       "      <td>Shares in UK drinks and food firm Allied Domec...</td>\n",
       "      <td>['Allied Domecq', 'takeover', 'Pernod Ricard',...</td>\n",
       "    </tr>\n",
       "    <tr>\n",
       "      <th>...</th>\n",
       "      <td>...</td>\n",
       "      <td>...</td>\n",
       "      <td>...</td>\n",
       "      <td>...</td>\n",
       "      <td>...</td>\n",
       "      <td>...</td>\n",
       "    </tr>\n",
       "    <tr>\n",
       "      <th>2216</th>\n",
       "      <td>tech</td>\n",
       "      <td>396.txt</td>\n",
       "      <td>New consoles promise big problems</td>\n",
       "      <td>Making games for future consoles will require...</td>\n",
       "      <td>Creating games for the upcoming next-generatio...</td>\n",
       "      <td>['future consoles', 'graphic artists', 'next g...</td>\n",
       "    </tr>\n",
       "    <tr>\n",
       "      <th>2217</th>\n",
       "      <td>tech</td>\n",
       "      <td>397.txt</td>\n",
       "      <td>BT program to beat dialler scams</td>\n",
       "      <td>BT is introducing two initiatives to help bea...</td>\n",
       "      <td>BT is launching two initiatives to combat rogu...</td>\n",
       "      <td>['BT', 'rogue dialler scams', 'Modem Protectio...</td>\n",
       "    </tr>\n",
       "    <tr>\n",
       "      <th>2218</th>\n",
       "      <td>tech</td>\n",
       "      <td>398.txt</td>\n",
       "      <td>Spam e-mails tempt net shoppers</td>\n",
       "      <td>Computer users across the world continue to i...</td>\n",
       "      <td>A report by the Business Software Alliance (BS...</td>\n",
       "      <td>['spam e-mails', 'software', 'clothes', 'jewel...</td>\n",
       "    </tr>\n",
       "    <tr>\n",
       "      <th>2219</th>\n",
       "      <td>tech</td>\n",
       "      <td>399.txt</td>\n",
       "      <td>Be careful how you code</td>\n",
       "      <td>A new European directive could put software w...</td>\n",
       "      <td>The Dutch government is pushing through a cont...</td>\n",
       "      <td>['European directive', 'software writers', 'pa...</td>\n",
       "    </tr>\n",
       "    <tr>\n",
       "      <th>2220</th>\n",
       "      <td>tech</td>\n",
       "      <td>400.txt</td>\n",
       "      <td>US cyber security chief resigns</td>\n",
       "      <td>The man making sure US computer networks are ...</td>\n",
       "      <td>Amit Yoran, director of the National Cyber Sec...</td>\n",
       "      <td>['Amit Yoran', 'National Cyber Security Divisi...</td>\n",
       "    </tr>\n",
       "  </tbody>\n",
       "</table>\n",
       "<p>2221 rows × 6 columns</p>\n",
       "</div>"
      ],
      "text/plain": [
       "      category filename                              title  \\\n",
       "0     business  001.txt  Ad sales boost Time Warner profit   \n",
       "1     business  002.txt   Dollar gains on Greenspan speech   \n",
       "2     business  003.txt  Yukos unit buyer faces loan claim   \n",
       "3     business  004.txt  High fuel prices hit BA's profits   \n",
       "4     business  005.txt  Pernod takeover talk lifts Domecq   \n",
       "...        ...      ...                                ...   \n",
       "2216      tech  396.txt  New consoles promise big problems   \n",
       "2217      tech  397.txt   BT program to beat dialler scams   \n",
       "2218      tech  398.txt    Spam e-mails tempt net shoppers   \n",
       "2219      tech  399.txt            Be careful how you code   \n",
       "2220      tech  400.txt    US cyber security chief resigns   \n",
       "\n",
       "                                                content  \\\n",
       "0      Quarterly profits at US media giant TimeWarne...   \n",
       "1      The dollar has hit its highest level against ...   \n",
       "2      The owners of embattled Russian oil giant Yuk...   \n",
       "3      British Airways has blamed high fuel prices f...   \n",
       "4      Shares in UK drinks and food firm Allied Dome...   \n",
       "...                                                 ...   \n",
       "2216   Making games for future consoles will require...   \n",
       "2217   BT is introducing two initiatives to help bea...   \n",
       "2218   Computer users across the world continue to i...   \n",
       "2219   A new European directive could put software w...   \n",
       "2220   The man making sure US computer networks are ...   \n",
       "\n",
       "                                                summary  \\\n",
       "0     TimeWarner has reported a 76% increase in quar...   \n",
       "1     The US dollar has risen to its highest level a...   \n",
       "2     Yukos' owners are to demand that Rosneft, the ...   \n",
       "3     British Airways has reported a 40% drop in pro...   \n",
       "4     Shares in UK drinks and food firm Allied Domec...   \n",
       "...                                                 ...   \n",
       "2216  Creating games for the upcoming next-generatio...   \n",
       "2217  BT is launching two initiatives to combat rogu...   \n",
       "2218  A report by the Business Software Alliance (BS...   \n",
       "2219  The Dutch government is pushing through a cont...   \n",
       "2220  Amit Yoran, director of the National Cyber Sec...   \n",
       "\n",
       "                                               keywords  \n",
       "0     ['TimeWarner', 'profits', 'AOL', 'internet adv...  \n",
       "1     ['dollar', 'Federal Reserve', 'US trade defici...  \n",
       "2     ['Yukos', 'Rosneft', 'Yugansk unit', 'Menatep ...  \n",
       "3     ['British Airways', 'fuel prices', 'pre-tax pr...  \n",
       "4     ['Allied Domecq', 'takeover', 'Pernod Ricard',...  \n",
       "...                                                 ...  \n",
       "2216  ['future consoles', 'graphic artists', 'next g...  \n",
       "2217  ['BT', 'rogue dialler scams', 'Modem Protectio...  \n",
       "2218  ['spam e-mails', 'software', 'clothes', 'jewel...  \n",
       "2219  ['European directive', 'software writers', 'pa...  \n",
       "2220  ['Amit Yoran', 'National Cyber Security Divisi...  \n",
       "\n",
       "[2221 rows x 6 columns]"
      ]
     },
     "execution_count": 4,
     "metadata": {},
     "output_type": "execute_result"
    }
   ],
   "source": [
    "df = pd.read_csv('data/bbc-news-data-with-summary&keywords.csv')\n",
    "df"
   ]
  },
  {
   "cell_type": "code",
   "execution_count": 12,
   "id": "9f1520fe",
   "metadata": {},
   "outputs": [],
   "source": [
    "def openai_embedder(text: str):\n",
    "    return np.array(get_embedding(text, engine=\"text-embedding-ada-002\"))\n"
   ]
  },
  {
   "cell_type": "code",
   "execution_count": 13,
   "id": "35f6e52f",
   "metadata": {},
   "outputs": [
    {
     "name": "stderr",
     "output_type": "stream",
     "text": [
      "100%|████████████████████████████████████████████████████| 2221/2221 [05:11<00:00,  7.13it/s]\n"
     ]
    }
   ],
   "source": [
    "df['summary_embeddings'] = df['summary'].progress_apply(openai_embedder)"
   ]
  },
  {
   "cell_type": "code",
   "execution_count": 14,
   "id": "4e49fb36",
   "metadata": {},
   "outputs": [
    {
     "data": {
      "text/html": [
       "<div>\n",
       "<style scoped>\n",
       "    .dataframe tbody tr th:only-of-type {\n",
       "        vertical-align: middle;\n",
       "    }\n",
       "\n",
       "    .dataframe tbody tr th {\n",
       "        vertical-align: top;\n",
       "    }\n",
       "\n",
       "    .dataframe thead th {\n",
       "        text-align: right;\n",
       "    }\n",
       "</style>\n",
       "<table border=\"1\" class=\"dataframe\">\n",
       "  <thead>\n",
       "    <tr style=\"text-align: right;\">\n",
       "      <th></th>\n",
       "      <th>category</th>\n",
       "      <th>filename</th>\n",
       "      <th>title</th>\n",
       "      <th>content</th>\n",
       "      <th>summary</th>\n",
       "      <th>keywords</th>\n",
       "      <th>summary_embeddings</th>\n",
       "    </tr>\n",
       "  </thead>\n",
       "  <tbody>\n",
       "    <tr>\n",
       "      <th>0</th>\n",
       "      <td>business</td>\n",
       "      <td>001.txt</td>\n",
       "      <td>Ad sales boost Time Warner profit</td>\n",
       "      <td>Quarterly profits at US media giant TimeWarne...</td>\n",
       "      <td>TimeWarner has reported a 76% increase in quar...</td>\n",
       "      <td>['TimeWarner', 'profits', 'AOL', 'internet adv...</td>\n",
       "      <td>[-0.015091367065906525, -0.02089376002550125, ...</td>\n",
       "    </tr>\n",
       "    <tr>\n",
       "      <th>1</th>\n",
       "      <td>business</td>\n",
       "      <td>002.txt</td>\n",
       "      <td>Dollar gains on Greenspan speech</td>\n",
       "      <td>The dollar has hit its highest level against ...</td>\n",
       "      <td>The US dollar has risen to its highest level a...</td>\n",
       "      <td>['dollar', 'Federal Reserve', 'US trade defici...</td>\n",
       "      <td>[-0.006941323634237051, -0.014485102146863937,...</td>\n",
       "    </tr>\n",
       "    <tr>\n",
       "      <th>2</th>\n",
       "      <td>business</td>\n",
       "      <td>003.txt</td>\n",
       "      <td>Yukos unit buyer faces loan claim</td>\n",
       "      <td>The owners of embattled Russian oil giant Yuk...</td>\n",
       "      <td>Yukos' owners are to demand that Rosneft, the ...</td>\n",
       "      <td>['Yukos', 'Rosneft', 'Yugansk unit', 'Menatep ...</td>\n",
       "      <td>[-0.008478711359202862, -0.04009078070521355, ...</td>\n",
       "    </tr>\n",
       "    <tr>\n",
       "      <th>3</th>\n",
       "      <td>business</td>\n",
       "      <td>004.txt</td>\n",
       "      <td>High fuel prices hit BA's profits</td>\n",
       "      <td>British Airways has blamed high fuel prices f...</td>\n",
       "      <td>British Airways has reported a 40% drop in pro...</td>\n",
       "      <td>['British Airways', 'fuel prices', 'pre-tax pr...</td>\n",
       "      <td>[-0.022860826924443245, -0.02874668501317501, ...</td>\n",
       "    </tr>\n",
       "    <tr>\n",
       "      <th>4</th>\n",
       "      <td>business</td>\n",
       "      <td>005.txt</td>\n",
       "      <td>Pernod takeover talk lifts Domecq</td>\n",
       "      <td>Shares in UK drinks and food firm Allied Dome...</td>\n",
       "      <td>Shares in UK drinks and food firm Allied Domec...</td>\n",
       "      <td>['Allied Domecq', 'takeover', 'Pernod Ricard',...</td>\n",
       "      <td>[0.003200878156349063, -0.020808186382055283, ...</td>\n",
       "    </tr>\n",
       "    <tr>\n",
       "      <th>...</th>\n",
       "      <td>...</td>\n",
       "      <td>...</td>\n",
       "      <td>...</td>\n",
       "      <td>...</td>\n",
       "      <td>...</td>\n",
       "      <td>...</td>\n",
       "      <td>...</td>\n",
       "    </tr>\n",
       "    <tr>\n",
       "      <th>2216</th>\n",
       "      <td>tech</td>\n",
       "      <td>396.txt</td>\n",
       "      <td>New consoles promise big problems</td>\n",
       "      <td>Making games for future consoles will require...</td>\n",
       "      <td>Creating games for the upcoming next-generatio...</td>\n",
       "      <td>['future consoles', 'graphic artists', 'next g...</td>\n",
       "      <td>[0.0065853954292833805, -0.01052235160022974, ...</td>\n",
       "    </tr>\n",
       "    <tr>\n",
       "      <th>2217</th>\n",
       "      <td>tech</td>\n",
       "      <td>397.txt</td>\n",
       "      <td>BT program to beat dialler scams</td>\n",
       "      <td>BT is introducing two initiatives to help bea...</td>\n",
       "      <td>BT is launching two initiatives to combat rogu...</td>\n",
       "      <td>['BT', 'rogue dialler scams', 'Modem Protectio...</td>\n",
       "      <td>[-0.014873337931931019, -0.017099644988775253,...</td>\n",
       "    </tr>\n",
       "    <tr>\n",
       "      <th>2218</th>\n",
       "      <td>tech</td>\n",
       "      <td>398.txt</td>\n",
       "      <td>Spam e-mails tempt net shoppers</td>\n",
       "      <td>Computer users across the world continue to i...</td>\n",
       "      <td>A report by the Business Software Alliance (BS...</td>\n",
       "      <td>['spam e-mails', 'software', 'clothes', 'jewel...</td>\n",
       "      <td>[0.0011268907692283392, -0.02139226347208023, ...</td>\n",
       "    </tr>\n",
       "    <tr>\n",
       "      <th>2219</th>\n",
       "      <td>tech</td>\n",
       "      <td>399.txt</td>\n",
       "      <td>Be careful how you code</td>\n",
       "      <td>A new European directive could put software w...</td>\n",
       "      <td>The Dutch government is pushing through a cont...</td>\n",
       "      <td>['European directive', 'software writers', 'pa...</td>\n",
       "      <td>[0.0008752755238674581, -0.025408955290913582,...</td>\n",
       "    </tr>\n",
       "    <tr>\n",
       "      <th>2220</th>\n",
       "      <td>tech</td>\n",
       "      <td>400.txt</td>\n",
       "      <td>US cyber security chief resigns</td>\n",
       "      <td>The man making sure US computer networks are ...</td>\n",
       "      <td>Amit Yoran, director of the National Cyber Sec...</td>\n",
       "      <td>['Amit Yoran', 'National Cyber Security Divisi...</td>\n",
       "      <td>[-0.0037317120004445314, -0.02150706574320793,...</td>\n",
       "    </tr>\n",
       "  </tbody>\n",
       "</table>\n",
       "<p>2221 rows × 7 columns</p>\n",
       "</div>"
      ],
      "text/plain": [
       "      category filename                              title  \\\n",
       "0     business  001.txt  Ad sales boost Time Warner profit   \n",
       "1     business  002.txt   Dollar gains on Greenspan speech   \n",
       "2     business  003.txt  Yukos unit buyer faces loan claim   \n",
       "3     business  004.txt  High fuel prices hit BA's profits   \n",
       "4     business  005.txt  Pernod takeover talk lifts Domecq   \n",
       "...        ...      ...                                ...   \n",
       "2216      tech  396.txt  New consoles promise big problems   \n",
       "2217      tech  397.txt   BT program to beat dialler scams   \n",
       "2218      tech  398.txt    Spam e-mails tempt net shoppers   \n",
       "2219      tech  399.txt            Be careful how you code   \n",
       "2220      tech  400.txt    US cyber security chief resigns   \n",
       "\n",
       "                                                content  \\\n",
       "0      Quarterly profits at US media giant TimeWarne...   \n",
       "1      The dollar has hit its highest level against ...   \n",
       "2      The owners of embattled Russian oil giant Yuk...   \n",
       "3      British Airways has blamed high fuel prices f...   \n",
       "4      Shares in UK drinks and food firm Allied Dome...   \n",
       "...                                                 ...   \n",
       "2216   Making games for future consoles will require...   \n",
       "2217   BT is introducing two initiatives to help bea...   \n",
       "2218   Computer users across the world continue to i...   \n",
       "2219   A new European directive could put software w...   \n",
       "2220   The man making sure US computer networks are ...   \n",
       "\n",
       "                                                summary  \\\n",
       "0     TimeWarner has reported a 76% increase in quar...   \n",
       "1     The US dollar has risen to its highest level a...   \n",
       "2     Yukos' owners are to demand that Rosneft, the ...   \n",
       "3     British Airways has reported a 40% drop in pro...   \n",
       "4     Shares in UK drinks and food firm Allied Domec...   \n",
       "...                                                 ...   \n",
       "2216  Creating games for the upcoming next-generatio...   \n",
       "2217  BT is launching two initiatives to combat rogu...   \n",
       "2218  A report by the Business Software Alliance (BS...   \n",
       "2219  The Dutch government is pushing through a cont...   \n",
       "2220  Amit Yoran, director of the National Cyber Sec...   \n",
       "\n",
       "                                               keywords  \\\n",
       "0     ['TimeWarner', 'profits', 'AOL', 'internet adv...   \n",
       "1     ['dollar', 'Federal Reserve', 'US trade defici...   \n",
       "2     ['Yukos', 'Rosneft', 'Yugansk unit', 'Menatep ...   \n",
       "3     ['British Airways', 'fuel prices', 'pre-tax pr...   \n",
       "4     ['Allied Domecq', 'takeover', 'Pernod Ricard',...   \n",
       "...                                                 ...   \n",
       "2216  ['future consoles', 'graphic artists', 'next g...   \n",
       "2217  ['BT', 'rogue dialler scams', 'Modem Protectio...   \n",
       "2218  ['spam e-mails', 'software', 'clothes', 'jewel...   \n",
       "2219  ['European directive', 'software writers', 'pa...   \n",
       "2220  ['Amit Yoran', 'National Cyber Security Divisi...   \n",
       "\n",
       "                                     summary_embeddings  \n",
       "0     [-0.015091367065906525, -0.02089376002550125, ...  \n",
       "1     [-0.006941323634237051, -0.014485102146863937,...  \n",
       "2     [-0.008478711359202862, -0.04009078070521355, ...  \n",
       "3     [-0.022860826924443245, -0.02874668501317501, ...  \n",
       "4     [0.003200878156349063, -0.020808186382055283, ...  \n",
       "...                                                 ...  \n",
       "2216  [0.0065853954292833805, -0.01052235160022974, ...  \n",
       "2217  [-0.014873337931931019, -0.017099644988775253,...  \n",
       "2218  [0.0011268907692283392, -0.02139226347208023, ...  \n",
       "2219  [0.0008752755238674581, -0.025408955290913582,...  \n",
       "2220  [-0.0037317120004445314, -0.02150706574320793,...  \n",
       "\n",
       "[2221 rows x 7 columns]"
      ]
     },
     "execution_count": 14,
     "metadata": {},
     "output_type": "execute_result"
    }
   ],
   "source": [
    "df"
   ]
  },
  {
   "cell_type": "markdown",
   "id": "4db43bfa",
   "metadata": {},
   "source": [
    "## Milvus Setup\n",
    "- Connecting to the Milvus Container\n",
    "- Setting up the schema for the Milvus Collection\n",
    "- converting df to Milvus acceptable data format.\n",
    "- Insert Data into Milvus\n",
    "- Freezing the Collection to Segment for building indexes\n"
   ]
  },
  {
   "cell_type": "code",
   "execution_count": 16,
   "id": "2882d46e",
   "metadata": {},
   "outputs": [],
   "source": [
    "connections.connect(\"default\", host=\"localhost\", port=\"19530\")"
   ]
  },
  {
   "cell_type": "code",
   "execution_count": 39,
   "id": "420f6548",
   "metadata": {},
   "outputs": [],
   "source": [
    "utility.drop_collection('bbc_news')"
   ]
  },
  {
   "cell_type": "code",
   "execution_count": 40,
   "id": "6a48a9ae",
   "metadata": {},
   "outputs": [
    {
     "data": {
      "text/plain": [
       "['covid_data',\n",
       " 'chatgpt_bucket',\n",
       " 'backyard_topics_2022',\n",
       " 'test',\n",
       " 'bucketed_data',\n",
       " 'bertopic_bucket',\n",
       " 'bertopic_small_buckets']"
      ]
     },
     "execution_count": 40,
     "metadata": {},
     "output_type": "execute_result"
    }
   ],
   "source": [
    "utility.list_collections()"
   ]
  },
  {
   "cell_type": "code",
   "execution_count": null,
   "id": "cfe50013",
   "metadata": {},
   "outputs": [],
   "source": []
  },
  {
   "cell_type": "code",
   "execution_count": 18,
   "id": "fa535e10",
   "metadata": {},
   "outputs": [
    {
     "name": "stdout",
     "output_type": "stream",
     "text": [
      "1536\n"
     ]
    }
   ],
   "source": [
    "print(len(df['summary_embeddings'][0]))"
   ]
  },
  {
   "cell_type": "code",
   "execution_count": 21,
   "id": "287f5d16",
   "metadata": {},
   "outputs": [
    {
     "name": "stdout",
     "output_type": "stream",
     "text": [
      "category 13\n",
      "filename 7\n",
      "title 52\n",
      "content 13797\n",
      "summary 875\n",
      "keywords 185\n"
     ]
    }
   ],
   "source": [
    "for col in df.columns:\n",
    "    arr = df[col].to_list()\n",
    "    \n",
    "    if type(arr[0]) == str:\n",
    "        len_arr = [len(i) for i in arr]\n",
    "        print(col, np.max(len_arr))"
   ]
  },
  {
   "cell_type": "code",
   "execution_count": 41,
   "id": "13916aad",
   "metadata": {},
   "outputs": [],
   "source": [
    "category = FieldSchema(\n",
    "    name='category',\n",
    "    dtype= DataType.VARCHAR, \n",
    "    max_length=20,\n",
    ")\n",
    "filename = FieldSchema(\n",
    "    name='filename', \n",
    "    dtype= DataType.VARCHAR, \n",
    "    max_length=10,\n",
    "    is_primary=True\n",
    ")\n",
    "title = FieldSchema(\n",
    "    name='title',\n",
    "    dtype= DataType.VARCHAR,\n",
    "    max_length=60,\n",
    ")\n",
    "content = FieldSchema(\n",
    "    name='content',\n",
    "    dtype= DataType.VARCHAR,\n",
    "    max_length=15000,\n",
    ")\n",
    "summary = FieldSchema(\n",
    "    name='summary', \n",
    "    dtype= DataType.VARCHAR, \n",
    "    max_length= 1000\n",
    ")\n",
    "keywords = FieldSchema(\n",
    "    name='keywords', \n",
    "    dtype= DataType.VARCHAR, \n",
    "    max_length= 250\n",
    ")\n",
    "summary_embedding = FieldSchema(\n",
    "    name='summary_embedding', \n",
    "    dtype= DataType.FLOAT_VECTOR, \n",
    "    dim=1536, \n",
    ")\n",
    "\n",
    "schema = CollectionSchema(\n",
    "    fields=[category, filename, title, content, summary,keywords, summary_embedding], \n",
    "    description='Building a POC for article search on BBC news data'\n",
    ")\n",
    "collection_name = 'bbc_news'"
   ]
  },
  {
   "cell_type": "code",
   "execution_count": 42,
   "id": "f18e5771",
   "metadata": {},
   "outputs": [],
   "source": [
    "bbc_collection = Collection(\n",
    "    name=collection_name, \n",
    "    schema=schema, \n",
    "    using='default', \n",
    "    shards_num=2\n",
    ")"
   ]
  },
  {
   "cell_type": "code",
   "execution_count": 43,
   "id": "3dd0317f",
   "metadata": {},
   "outputs": [
    {
     "data": {
      "text/plain": [
       "{\n",
       "  auto_id: False\n",
       "  description: Building a POC for article search on BBC news data\n",
       "  fields: [{\n",
       "    name: category\n",
       "    description: \n",
       "    type: 21\n",
       "    params: {'max_length': 20}\n",
       "  }, {\n",
       "    name: filename\n",
       "    description: \n",
       "    type: 21\n",
       "    params: {'max_length': 10}\n",
       "    is_primary: True\n",
       "    auto_id: False\n",
       "  }, {\n",
       "    name: title\n",
       "    description: \n",
       "    type: 21\n",
       "    params: {'max_length': 60}\n",
       "  }, {\n",
       "    name: content\n",
       "    description: \n",
       "    type: 21\n",
       "    params: {'max_length': 15000}\n",
       "  }, {\n",
       "    name: summary\n",
       "    description: \n",
       "    type: 21\n",
       "    params: {'max_length': 1000}\n",
       "  }, {\n",
       "    name: keywords\n",
       "    description: \n",
       "    type: 21\n",
       "    params: {'max_length': 250}\n",
       "  }, {\n",
       "    name: summary_embedding\n",
       "    description: \n",
       "    type: 101\n",
       "    params: {'dim': 1536}\n",
       "  }]\n",
       "}"
      ]
     },
     "execution_count": 43,
     "metadata": {},
     "output_type": "execute_result"
    }
   ],
   "source": [
    "bbc_collection.schema"
   ]
  },
  {
   "cell_type": "code",
   "execution_count": 44,
   "id": "6da8c0cf",
   "metadata": {},
   "outputs": [
    {
     "data": {
      "text/plain": [
       "7"
      ]
     },
     "execution_count": 44,
     "metadata": {},
     "output_type": "execute_result"
    }
   ],
   "source": [
    "def format_df(df: pd.DataFrame):\n",
    "    collection_data = []\n",
    "    for column in df.columns:\n",
    "        collection_data.append(df[column].to_list())\n",
    "    return collection_data\n",
    "collection_data = format_df(df)\n",
    "len(collection_data)"
   ]
  },
  {
   "cell_type": "code",
   "execution_count": 45,
   "id": "f274ca24",
   "metadata": {},
   "outputs": [],
   "source": [
    "mr = bbc_collection.insert(collection_data)"
   ]
  },
  {
   "cell_type": "code",
   "execution_count": 46,
   "id": "34b9f15d",
   "metadata": {},
   "outputs": [
    {
     "data": {
      "text/plain": [
       "2221"
      ]
     },
     "execution_count": 46,
     "metadata": {},
     "output_type": "execute_result"
    }
   ],
   "source": [
    "mr.insert_count"
   ]
  },
  {
   "cell_type": "code",
   "execution_count": 47,
   "id": "9f1e6d95",
   "metadata": {},
   "outputs": [],
   "source": [
    "bbc_collection.flush()"
   ]
  },
  {
   "cell_type": "code",
   "execution_count": 48,
   "id": "cb633e2f",
   "metadata": {},
   "outputs": [
    {
     "data": {
      "text/plain": [
       "2221"
      ]
     },
     "execution_count": 48,
     "metadata": {},
     "output_type": "execute_result"
    }
   ],
   "source": [
    "bbc_collection.num_entities"
   ]
  },
  {
   "cell_type": "markdown",
   "id": "1927e0e2",
   "metadata": {},
   "source": [
    "## Milvus Indexing\n",
    "We would be using the following configuration -\n",
    "\n",
    "1. We are using IVF_FLAT as it is super fast and has quantization enabled,\n",
    "2. IVF_FLAT is comparable to FAISS in terms of performance\n",
    "3. We are using IP distance for setting up the distance metric, it is analogus to vector product\n",
    "4. We are creating 190 cluster as it can be calculated as 4* sqrt(num_index_data_points)"
   ]
  },
  {
   "cell_type": "code",
   "execution_count": 49,
   "id": "8177b1e7",
   "metadata": {},
   "outputs": [
    {
     "data": {
      "text/plain": [
       "Status(code=0, message=)"
      ]
     },
     "execution_count": 49,
     "metadata": {},
     "output_type": "execute_result"
    }
   ],
   "source": [
    "index = {\n",
    "    \"index_type\": \"IVF_FLAT\",\n",
    "    \"metric_type\": \"IP\",\n",
    "    \"params\": {\"nlist\": 190},\n",
    "}\n",
    "bbc_collection.create_index(\"summary_embedding\", index)"
   ]
  },
  {
   "cell_type": "code",
   "execution_count": 50,
   "id": "7a35a9f6",
   "metadata": {},
   "outputs": [],
   "source": [
    "bbc_collection.release()"
   ]
  },
  {
   "cell_type": "code",
   "execution_count": 51,
   "id": "9d5f5792",
   "metadata": {},
   "outputs": [],
   "source": [
    "bbc_collection.load()"
   ]
  },
  {
   "cell_type": "code",
   "execution_count": 53,
   "id": "e6c8af82",
   "metadata": {},
   "outputs": [
    {
     "name": "stdout",
     "output_type": "stream",
     "text": [
      "9.811878204345703\n"
     ]
    }
   ],
   "source": [
    "vectors_to_search = [openai_embedder(i) for i in [df['summary'][0], df['summary'][1]]]\n",
    "search_params = {\n",
    "    \"metric_type\": \"IP\",\n",
    "    \"params\": {\"nprobe\": 10},\n",
    "}\n",
    "start = time()\n",
    "result = bbc_collection.search(vectors_to_search, \"summary_embedding\", search_params, limit=10, output_fields=['title', 'content', 'summary', 'keywords'])\n",
    "print((time() - start)*1000)"
   ]
  },
  {
   "cell_type": "code",
   "execution_count": 54,
   "id": "ff1c38d2",
   "metadata": {},
   "outputs": [],
   "source": [
    "result_list = []\n",
    "for out in result: \n",
    "    hit_list = []\n",
    "    for hit in out:\n",
    "        hit_dict = {}\n",
    "        hit_dict['filename'] = hit.id \n",
    "        hit_dict['title'] = hit.entity.get('title')\n",
    "        hit_dict['content'] = hit.entity.get('content')\n",
    "        hit_dict['summary'] = hit.entity.get('summary')\n",
    "        hit_dict['keywords'] = literal_eval(hit.entity.get('keywords'))\n",
    "        hit_dict['score'] = hit.distance\n",
    "\n",
    "        hit_list.append(hit_dict)\n",
    "    result_list.append(hit_list)"
   ]
  },
  {
   "cell_type": "code",
   "execution_count": 57,
   "id": "33e861cc",
   "metadata": {},
   "outputs": [
    {
     "data": {
      "text/plain": [
       "[{'filename': '002.txt',\n",
       "  'title': 'Dollar gains on Greenspan speech',\n",
       "  'content': ' The dollar has hit its highest level against the euro in almost three months after the Federal Reserve head said the US trade deficit is set to stabilise.  And Alan Greenspan highlighted the US government\\'s willingness to curb spending and rising household savings as factors which may help to reduce it. In late trading in New York, the dollar reached $1.2871 against the euro, from $1.2974 on Thursday. Market concerns about the deficit has hit the greenback in recent months. On Friday, Federal Reserve chairman Mr Greenspan\\'s speech in London ahead of the meeting of G7 finance ministers sent the dollar higher after it had earlier tumbled on the back of worse-than-expected US jobs data. \"I think the chairman\\'s taking a much more sanguine view on the current account deficit than he\\'s taken for some time,\" said Robert Sinche, head of currency strategy at Bank of America in New York. \"He\\'s taking a longer-term view, laying out a set of conditions under which the current account deficit can improve this year and next.\"  Worries about the deficit concerns about China do, however, remain. China\\'s currency remains pegged to the dollar and the US currency\\'s sharp falls in recent months have therefore made Chinese export prices highly competitive. But calls for a shift in Beijing\\'s policy have fallen on deaf ears, despite recent comments in a major Chinese newspaper that the \"time is ripe\" for a loosening of the peg. The G7 meeting is thought unlikely to produce any meaningful movement in Chinese policy. In the meantime, the US Federal Reserve\\'s decision on 2 February to boost interest rates by a quarter of a point - the sixth such move in as many months - has opened up a differential with European rates. The half-point window, some believe, could be enough to keep US assets looking more attractive, and could help prop up the dollar. The recent falls have partly been the result of big budget deficits, as well as the US\\'s yawning current account gap, both of which need to be funded by the buying of US bonds and assets by foreign firms and governments. The White House will announce its budget on Monday, and many commentators believe the deficit will remain at close to half a trillion dollars. ',\n",
       "  'summary': \"The US dollar has risen to its highest level against the euro in almost three months after Federal Reserve head Alan Greenspan said the US trade deficit is set to stabilise. Greenspan highlighted the US government's willingness to curb spending and rising household savings as factors which may help to reduce the deficit. However, concerns about the deficit and China's currency policy remain.\",\n",
       "  'keywords': ['dollar',\n",
       "   'Federal Reserve',\n",
       "   'US trade deficit',\n",
       "   'Alan Greenspan',\n",
       "   'G7 finance ministers'],\n",
       "  'score': 0.9999985098838806},\n",
       " {'filename': '097.txt',\n",
       "  'title': \"'Strong dollar' call halts slide\",\n",
       "  'content': ' The US dollar\\'s slide against the euro and yen has halted after US Treasury Secretary John Snow said a strong dollar was \"in America\\'s interest\".  But analysts said any gains are likely to be short-lived as problems with the US economy were still significant. They also pointed out that positive comments apart, President George W Bush\\'s administration had done little to stop the dollar\\'s slide. A weak dollar helps boost exports and narrow the current account deficit. The dollar was trading at $1.2944 against the euro at 2100GMT, still close to the $1.3006 record level set on 10 November. Against the Japanese yen, it was trading at 105.28 yen, after hitting a seven-month low of 105.17 earlier in the day.  Policy makers in Europe have called the dollar\\'s slide \"brutal\" and have blamed the strength of the euro for dampening economic growth. However, it is unclear whether ministers would issue a declaration aimed at curbing the euro\\'s rise at a monthly meeting of Eurozone ministers late on Monday. Higher growth in Europe is regarded by US officials as a way the huge US current account deficit - that has been weighing on the dollar - could be reduced. Mr Snow who is currently in Dublin at the start of a four-nation EU visit, has applauded Ireland\\'s introduction of lower taxes and deregulation which have helped boost growth. \"The eurozone is growing below its potential. When a major part of the global economy is below potential there are negative consequences... for the citizens of those economies... and for their trading partners,\" he said. Mr Snow\\'s comments may have helped shore up the dollar on Monday, but he was careful to qualify his statement.  \"Our basic policy, of course, is to let open, competitive markets set the values,\" he explained. \"Markets are driven by fundamentals and towards fundamentals.\" US officials have also said that other economies need to grow, so the US is not the main global growth engine. Economists say that the fundamentals, or key indicators, of the US economy are looking far from rosy. Domestic consumer demand is cooling, and heavy spending by President Bush has pushed the budget deficit to a record $427bn (£230bn). The current account deficit, meanwhile, hit a record $166bn in the second quarter of 2004. For many analysts, a weaker dollar is here to stay. \"No end is in sight,\" said Carsten Fritsch, a strategist at Commerzbank . \"It is only a matter of time until the euro reaches $1.30.\" Some analysts maintain the US is secretly happy with a lower dollar which helps makes its exports cheaper in Europe, thus boosting its economy. ',\n",
       "  'summary': 'US Treasury Secretary John Snow\\'s statement that a strong dollar is \"in America\\'s interest\" has halted the currency\\'s slide against the euro and yen. However, analysts have warned that any gains are likely to be short-lived as the US economy still faces significant problems. A weak dollar helps boost exports and narrow the current account deficit, but the fundamentals of the US economy are looking far from rosy, with domestic consumer demand cooling and heavy spending by President Bush pushing the budget deficit to a record $427bn.',\n",
       "  'keywords': ['US dollar',\n",
       "   'John Snow',\n",
       "   'euro',\n",
       "   'yen',\n",
       "   'current account deficit'],\n",
       "  'score': 0.9120179414749146},\n",
       " {'filename': '374.txt',\n",
       "  'title': 'Dollar hovers around record lows',\n",
       "  'content': ' The US dollar hovered close to record lows against the euro on Friday as concern grows about the size of the US budget deficit.  Analysts predict that the dollar will remain weak in 2005 as investors worry about the state of the US economy. The Bush administration\\'s apparent unwillingness to intervene to support the dollar has caused further concern. However, trading has been volatile over the past week because of technical and automated trading and light demand. This has amplified reactions to news, analysts said, adding that they expect markets to become less jumpy in January.  The dollar was trading at $1.3652 versus the euro on Friday morning after hitting a fresh record low of $1.3667 on Thursday. One dollar bought 102.55 yen.  Disappointing business figures from Chicago triggered the US currency\\'s weakness on Thursday. The National Association of Purchasing Management-Chicago said its manufacturing index dropped to 61.2, a bigger fall than expected. \"There are no dollar buyers now, especially after the Chicago data yesterday,\" said ABN Amro\\'s Paul Mackel. At the same time, German Chancellor Gerhard Schroeder and Italian Prime Minister Silvio Berlusconi voiced concerns about the strength of the euro. Mr Berlusconi said the euro\\'s strength was \"absolutely worrying\" for Italian exports. Mr Schroeder said in a newspaper article that stability in foreign exchange markets required a correction of global economic imbalances. Investors will now look towards February\\'s meeting of finance ministers from the G7 industrialised nations in London for clues as to whether central banks will combine forces to stem the dollar\\'s decline. ',\n",
       "  'summary': \"The US dollar is hovering around record lows against the euro due to concerns about the US budget deficit and the state of the US economy. The Bush administration's reluctance to intervene has caused further concern. Trading has been volatile, but analysts expect markets to become less jumpy in January. The dollar was trading at $1.3652 versus the euro on Friday morning after hitting a fresh record low of $1.3667 on Thursday.\",\n",
       "  'keywords': ['US dollar',\n",
       "   'euro',\n",
       "   'US budget deficit',\n",
       "   'Bush administration',\n",
       "   'National Association of Purchasing Management-Chicago'],\n",
       "  'score': 0.9117671251296997},\n",
       " {'filename': '376.txt',\n",
       "  'title': 'Dollar slides ahead of New Year',\n",
       "  'content': ' The US dollar has hit a new record low against the euro and analysts predict that more declines are likely in 2005.  Disappointing economic reports dented the currency, which had been rallying after European policy makers said they were worried about the euro\\'s strength. Earlier on Thursday, the Japanese yen touched its lowest versus the euro on concerns about economic growth in Asia. Currency markets have been volatile over the past week because of technical and automated trading and light demand. This has amplified reactions, analysts said, adding that they expect markets to become less jumpy in January.  \"People want to go into the weekend and the New Year positioned for a weaker buck,\" said Tim Mazanec, director of foreign exchange at Investors Bank and Trust. The dollar slid to a record $1.3666 versus the euro on Thursday, before bouncing back to $1.3636. Against the yen the dollar was trading down at $103.05.  The yen, meanwhile, dropped to 141.60 per euro in afternoon trading. It later strengthened to 140.55. Investors are concerned about the size of the US trade and budget deficits and are betting that George W Bush\\'s administration will allow the dollar to weaken despite saying they favour a strong currency. Also playing on investors\\' minds are mixed reports about the state of the US economy. On Thursday, disappointing business figures from Chicago brought a sudden end to a rally in the value of the dollar. The National Association of Purchasing Management-Chicago said its index dropped to 61.2, more than analysts had expected. German Chancellor Gerhard Schroeder and Italian Prime Minister Silvio Berlusconi voiced concerns about the strength of the euro. Mr Berlusconi said the euro\\'s strength was \"absolutely worrying\" for Italian exports. Mr Schroeder said in a newspaper article that stability in foreign exchange markets required a correction of global economic imbalances. ',\n",
       "  'summary': \"The US dollar has hit a new record low against the euro due to disappointing economic reports, and analysts predict more declines in 2005. The Japanese yen also touched its lowest versus the euro on concerns about economic growth in Asia. Investors are concerned about the size of the US trade and budget deficits and are betting that George W Bush's administration will allow the dollar to weaken despite saying they favour a strong currency.\",\n",
       "  'keywords': ['US dollar',\n",
       "   'euro',\n",
       "   'Japanese yen',\n",
       "   'currency markets',\n",
       "   'George W Bush'],\n",
       "  'score': 0.9093813896179199},\n",
       " {'filename': '496.txt',\n",
       "  'title': 'Europe asks Asia for euro help',\n",
       "  'content': ' European leaders say Asian states must let their currencies rise against the US dollar to ease pressure on the euro.  The European single currency has shot up to successive all-time highs against the dollar over the past few months. Tacit approval from the White House for the weaker greenback, which could help counteract huge deficits, has helped trigger the move. But now Europe says the euro has had enough, and Asia must now share some of the burden.  China is seen as the main culprit, with exports soaring up 35% in 2004 partly on the back of a currency pegged to the dollar. \"Asia should engage in greater currency flexibility,\" said French finance minister Herve Gaymard, after a meeting with his German counterpart Hans Eichel. Markets responded by pushing the euro lower, in the expectation that the rhetoric - and the pressure - is unlikely to ease ahead of a meeting of the G7 industrialised countries next week. Early on Tuesday morning, the dollar had edged higher to 1.3040 euros. The yen, meanwhile, had strengthened to 102.975 against the dollar by 0730 GMT. ',\n",
       "  'summary': 'European leaders are urging Asian states to allow their currencies to rise against the US dollar to ease pressure on the euro. The euro has reached successive all-time highs against the dollar in recent months, and Europe is now calling for Asia to share some of the burden. China is seen as the main culprit, with exports soaring 35% in 2004 partly due to a currency pegged to the dollar. The pressure is unlikely to ease ahead of a meeting of the G7 industrialised countries next week.',\n",
       "  'keywords': ['Europe', 'Asian states', 'currencies', 'euro', 'US dollar'],\n",
       "  'score': 0.9036464691162109},\n",
       " {'filename': '344.txt',\n",
       "  'title': 'Battered dollar hits another low',\n",
       "  'content': ' The dollar has fallen to a new record low against the euro after data fuelled fresh concerns about the US economy.  The greenback hit $1.3516 in thin New York trade, before rallying to $1.3509. The dollar has weakened sharply since September when it traded about $1.20, amid continuing worries over the levels of the US trade and budget deficits. Meanwhile, France\\'s finance minister has said the world faced \"economic catastrophe\" unless the US worked with Europe and Asia on currency controls. Herve Gaymard said he would seek action on the issue at the next meeting of G7 countries in February. Ministers from European and Asian governments have recently called on the US to strengthen the dollar, saying the excessively high value of the euro was starting to hurt their export-driven economies. \"It\\'s absolutely essential that at the meeting of the G7 our American friends understand that we need coordinated management at the world level,\" said Mr Gaymard.  Thursday\\'s new low for the dollar came after data was released showing year-on-year sales of new homes in the US had fallen 12% in November - with some analysts saying this could indicate problems ahead for consumer activity.  Commerce Department data also showed consumer spending - which drives two thirds of the US economy - grew just 0.2% last month. The figure was weaker than forecast - and fell short of the 0.8% rise in October. The official US policy is that it supports a strong dollar but many market observers believe it is happy to let the dollar fall because of the boost to its exporters.  The US government has faced pressure from exporter organisations which have publicly stated the currency still has further to fall from \"abnormal and dangerous heights\" set in 2002. The US says it will let market forces determine the dollar\\'s strength rather than intervene directly. Statements from President Bush in recent weeks highlighting his aim to cut the twin US deficits have prompted slight upturns in the currency. But while some observers said the quiet trade on Thursday had exacerbated small moves in the market, most agree the underlying trend remains downwards. The dollar has now fallen for a third consecutive year and analysts are forecasting a further, albeit less dramatic weakening, in 2005. \"I can see it finishing the year around $1.35 and we can see that it\\'s going to be a steady track upward for the euro/dollar in 2005, finishing the year around $1.40,\" said Adrian Hughes, currency strategist with HSBC in London. ',\n",
       "  'summary': 'The US dollar has hit a new record low against the euro, falling to $1.3516 in thin New York trade, before rallying to $1.3509. The dollar has weakened sharply since September when it traded about $1.20, amid continuing worries over the levels of the US trade and budget deficits. The fall came after data was released showing year-on-year sales of new homes in the US had fallen 12% in November, with some analysts saying this could indicate problems ahead for consumer activity.',\n",
       "  'keywords': ['dollar',\n",
       "   'euro',\n",
       "   'US economy',\n",
       "   'G7 countries',\n",
       "   'export-driven economies'],\n",
       "  'score': 0.9030300378799438},\n",
       " {'filename': '440.txt',\n",
       "  'title': 'US trade deficit widens sharply',\n",
       "  'content': ' The gap between US exports and imports has widened to more than $60bn (£31.7bn), an all-time record.  Figures from the Commerce Department for November showed exports down 2.3% to $95.6bn, while imports grew 1.3% to $155.8bn on rising consumer demand. Part of the expanding deficit came from high prices for oil imports. But the numbers suggested the sliding dollar - which makes exports less expensive - has had little impact, and could indicate slowing economic growth.  The trade deficit - far bigger than the $54bn widely expected on Wall Street - prompted a rapid response from the currency markets.  By 1650 GMT, the dollar was trading against the euro at $1.3280, almost a cent and a half weaker than before the announcement. Against the pound, the dollar was down about 0.7% at $1,8923. \"The dollar\\'s fall has been sudden, violent and appropriate given this number,\" said Brian Taylor of Wells Fargo in Minneapolis. \"Recent exchange rate movements certainly haven\\'t had any impact yet.\" Treasury Secretary John Snow put a brave face on the news, saying it was a sign of strong economic expansion. \"The economy is growing at such a fast rate that it is generating lots of disposable income... some of which is used to buy goods from our trading partners.\"  Although the White House officially still backs the US\\'s traditional \"strong dollar\" policy, it has tacitly indicated that it would be happy if the slide continued. The dollar has fallen by 50% against the euro - as well as by 30% against the yen - in the past three years. The main catalyst, most economists accept, is the large budget deficit on the one hand, and the current account deficit - the difference between the flow of money in and out of the US - on the other. The trade deficit is a large part of the latter. In November, the fall in exports was largely due to a decline in sales of industrial supplies and materials such as chemicals, as well as of cars, consumer goods and food. One small bright spot for US policy-makers was a slight decline in the deficit with China, often blamed for job losses and other economic woes. Although China\\'s overall trade surplus is expanding, according to Chinese government figures, the Commerce Department revealed the US\\'s deficit with China was $19.6bn in November, down from $19.7bn the month before. But the deficit with Japan was at its worst in more than four years. ',\n",
       "  'summary': 'The US trade deficit has reached an all-time high of over $60bn, with exports down 2.3% to $95.6bn and imports up 1.3% to $155.8bn in November. The deficit was largely due to high oil prices and rising consumer demand, and could indicate slowing economic growth. The sliding dollar, which makes exports cheaper, has had little impact. The deficit prompted a rapid response from currency markets, with the dollar falling against the euro and pound. Treasury Secretary John Snow said the deficit was a sign of strong economic expansion.',\n",
       "  'keywords': ['US',\n",
       "   'trade deficit',\n",
       "   'Commerce Department',\n",
       "   'dollar',\n",
       "   'imports'],\n",
       "  'score': 0.9018670320510864},\n",
       " {'filename': '089.txt',\n",
       "  'title': 'Europe blames US over weak dollar',\n",
       "  'content': ' European leaders have openly blamed the US for the sharp rise in the value of the euro.  US officials were talking up the dollar, they said, but failing to take action to back up their words. Meeting in Brussels, finance ministers of the 12 eurozone countries voiced their concern that the rise of the european currency was harming exports. The dollar is within touching distance of an all-time low reached earlier in November. At 0619 GMT on Tuesday, the dollar was up slightly at just above $1.29 to the euro, and buying 105.6 yen in Tokyo. It rallied briefly on Monday amid signs that oil prices are easing.  But analysts said the respite was likely to be only temporary. The European ministers\\' comments, said Junya Tanase of JPMorgan Chase bank in Tokyo, were \"generally too weak to produce a market reaction\".  Still, by the standards of diplomacy the European ministers were forthright. Nicolas Sarkozy of France said he and his colleagues were unanimous in their worry that the decline of the dollar would hit Europe\\'s economies by eating into their exports. \"We are concerned about these developments, which are destabilising, and which are linked to the accumulation of deficits by our American friends,\" he said. The comments come a day after US Treasury Secretary John Snow said a strong dollar was \"in America\\'s interest\".  But that was not enough for Mr Sarkozy.  \"If the Americans were to change their policy, it\\'s up to them to say so,\" he said. And the European Union\\'s monetary affairs commissioner, made it clear that action was necessary. \"I fully welcome the words of Mr Snow,\" said Joaquin Almunia, \"but we will need to see decisions adopted in that direction. \"If the imbalances in the US economy are not adjusted in the future, the decision in the market will be as in the past weeks.\" Economists point out that whatever Europe says, in the short term a weaker dollar is a boon to President George W Bush\\'s administration. Not only does it boost US exports, but it also makes the budget deficit easier to fund. On the other hand, slower European exports would mean slower EU growth - potentially reducing the demand for US goods. ',\n",
       "  'summary': 'European leaders have blamed the US for the sharp rise in the value of the euro, saying that US officials were talking up the dollar but failing to take action to back up their words. Finance ministers of the 12 eurozone countries voiced their concern that the rise of the European currency was harming exports. The dollar is within touching distance of an all-time low reached earlier in November.',\n",
       "  'keywords': ['Europe', 'US', 'euro', 'exports', 'dollar'],\n",
       "  'score': 0.9012005925178528},\n",
       " {'filename': '350.txt',\n",
       "  'title': 'Dollar hits new low versus euro',\n",
       "  'content': ' The US dollar has continued its record-breaking slide and has tumbled to a new low against the euro.  Investors are betting that the European Central Bank (ECB) will not do anything to weaken the euro, while the US is thought to favour a declining dollar. The US is struggling with a ballooning trade deficit and analysts said one of the easiest ways to fund it was by allowing a depreciation of the dollar. They have predicted that the dollar is likely to fall even further.  The US currency was trading at $1.364 per euro at 1800 GMT on Monday. This compares with $1.354 to the euro in late trading in New York on Friday, which was then a record low.  The dollar has weakened sharply since September when it traded about $1.20 against the euro. It has lost 7% this year, while against the Japanese yen it is down 3.2%. Traders said that thin trading levels had amplified Monday\\'s move. \"It\\'s not going to take much to push [the dollar] one way or the other,\" said Grant Wilson of Mellon Bank. Liquidity - a measure of the number of parties willing to trade in the market - was about half that of a normal working day, traders said. ',\n",
       "  'summary': 'The US dollar has hit a new low against the euro, with the currency trading at $1.364 per euro at 1800 GMT on Monday. Investors are betting that the European Central Bank will not weaken the euro, while the US is thought to favour a declining dollar to fund its ballooning trade deficit. Analysts predict the dollar is likely to fall even further.',\n",
       "  'keywords': ['US dollar',\n",
       "   'euro',\n",
       "   'European Central Bank',\n",
       "   'trade deficit',\n",
       "   'Japanese yen'],\n",
       "  'score': 0.9002864956855774},\n",
       " {'filename': '429.txt',\n",
       "  'title': 'US trade gap ballooned in October',\n",
       "  'content': ' The US trade deficit widened by more than expected in October, hitting record levels after higher oil prices raised import costs, figures have shown  The trade shortfall was $55.5bn (£29bn), up 9% from September, the Commerce Department said. That pushed the 10 month deficit to $500.5bn. Imports rose by 3.4%, while exports increased by only 0.6%. A weaker dollar also increased the cost of imports, though this should help drive export demand in coming months. \"Things are getting worse, but that\\'s to be expected,\" said David Wyss of Standard & Poor\\'s in New York. \"The first thing is that when the dollar goes down, it increases the price of imports. \"We are seeing improved export orders. Things seem to be going in the right direction.\"  Despite this optimism, significant concerns remain as to how the US will fund its trade and budget deficits should they continue to widen. Another problem highlighted by analysts was the growing trade gap with China, which has been accused of keeping its currency artificially weak in order to boost exports. The US imported almost $20bn worth of goods from China during October, exporting a little under $3bn. \"It seems the key worry that has existed in the currency market still remains,\" said Anthony Crescenzi, a bond strategist at Miller Tabak in New York. The trade deficit and the shortfall with China \"are big issues going forward\". The Commerce Department figures caused the dollar to weaken further despite widespread expectations that the Federal Reserve will raise interest rates for a fifth time this year. Borrowing costs are tipped to rise by a quarter of a percentage point to 2.25% at a Fed meeting later on Tuesday. ',\n",
       "  'summary': 'The US trade deficit reached record levels in October, increasing by 9% from September to $55.5bn, due to higher oil prices raising import costs. The 10-month deficit now stands at $500.5bn. While a weaker dollar has increased import costs, it is expected to boost export demand in the coming months. However, concerns remain over how the US will fund its trade and budget deficits if they continue to widen, and the growing trade gap with China. The figures caused the dollar to weaken further despite expectations of a fifth interest rate rise by the Federal Reserve.',\n",
       "  'keywords': ['US trade deficit',\n",
       "   'Commerce Department',\n",
       "   'imports',\n",
       "   'exports',\n",
       "   'weaker dollar'],\n",
       "  'score': 0.8965989351272583}]"
      ]
     },
     "execution_count": 57,
     "metadata": {},
     "output_type": "execute_result"
    }
   ],
   "source": [
    "result_list[1]"
   ]
  },
  {
   "cell_type": "code",
   "execution_count": null,
   "id": "953e1969",
   "metadata": {},
   "outputs": [],
   "source": []
  }
 ],
 "metadata": {
  "kernelspec": {
   "display_name": "Python 3 (ipykernel)",
   "language": "python",
   "name": "python3"
  },
  "language_info": {
   "codemirror_mode": {
    "name": "ipython",
    "version": 3
   },
   "file_extension": ".py",
   "mimetype": "text/x-python",
   "name": "python",
   "nbconvert_exporter": "python",
   "pygments_lexer": "ipython3",
   "version": "3.8.10"
  }
 },
 "nbformat": 4,
 "nbformat_minor": 5
}
